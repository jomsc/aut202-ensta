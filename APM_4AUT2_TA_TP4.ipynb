{
 "cells": [
  {
   "cell_type": "markdown",
   "id": "56468f06-42f2-45c3-8ac8-2e014de47509",
   "metadata": {},
   "source": [
    "# Introduction to control theory. \n",
    "\n",
    "## TP4. Full State Linear Feedback Controller.\n",
    "## Study load\n",
    "\n",
    "Course grade breakdown:\n",
    "\n",
    "    Labs - 40%\n",
    "    \n",
    "    Final project presentation 30%\n",
    "\n",
    "    Final test 30%\n",
    "    \n",
    "File name for lab submission: yourname_labnumber.ipynb (example: elenavanneaux_TP4.ipynb)    \n",
    "\n",
    "The completed notebooks should be sent to your tutor (elena.vanneaux@ensta.fr or adnan.saood@ensta.fr) before the beginning of the next session. Please add [APM_4AUT2_TA] to the topic of e-mail.\n",
    "\n",
    "## Prerequisites for practice\n",
    "### Math\n",
    "During the course, we will cover the following areas of mathematics:\n",
    "    \n",
    "    1. Linear Algebra\n",
    "\n",
    "    2. Calculus\n",
    "\n",
    "    3. Differential equations\n",
    "\n",
    "    4. Dynamics (Mechanics and Physics)\n",
    "\n",
    "### Python programming\n",
    "In the labs we will use a Python programming language and the following libraries:\n",
    "\n",
    "    1. NumPy https://numpy.org/doc/stable/\n",
    "\n",
    "    2. SciPy https://docs.scipy.org/doc/scipy/\n",
    "\n",
    "    3. Matplotlib https://matplotlib.org/stable/tutorials/index\n",
    "\n",
    "    4. SymPy https://docs.sympy.org/latest/tutorials/intro-tutorial/intro.html\n",
    "\n",
    "    5. Control System Library https://python-control.readthedocs.io/en/0.10.1/intro.html\n",
    "\n",
    "### Jupyter Notebook Markdown Cells Documentation\n",
    "\n",
    "Please check on Markdown cells documentation, to provide a fancy look for your notebooks!\n",
    "\n",
    "https://jupyter-notebook.readthedocs.io/en/stable/examples/Notebook/Working%20With%20Markdown%20Cells.html\n"
   ]
  },
  {
   "cell_type": "markdown",
   "id": "14527287-41fb-4e6d-89bd-14d17f9dc347",
   "metadata": {},
   "source": [
    "## EX. 1: Inverted Pendulum\n",
    "\n",
    "The system in this example consists of an inverted pendulum mounted to a motorized cart. The inverted pendulum system is an example commonly found in control system textbooks and research literature. Its popularity derives in part from the fact that it is unstable without control, that is, the pendulum will simply fall over if the cart isn't moved to balance it. Additionally, the dynamics of the system are nonlinear. The objective of the control system is to balance the inverted pendulum by applying a force to the cart that the pendulum is attached to. A real-world example that relates directly to this inverted pendulum system is the attitude control of a booster rocket at takeoff.\n",
    "\n",
    "\n",
    "Let us consider the system with the following system parameters\n",
    "    \n",
    "    (M)       mass of the cart                         0.5 kg\n",
    "    \n",
    "    (m)       mass of the pendulum                     0.2 kg\n",
    "    \n",
    "    (l)       length to pendulum center of mass        0.3 m\n",
    "    \n",
    "    (b)       coefficient of friction for cart         0.1 N/m/sec\n",
    "    \n",
    "    (I)       mass moment of inertia of the pendulum   0.006 kg.m^2\n",
    "    \n",
    "    (F)       force applied to the cart\n",
    "    \n",
    "    (y)       cart position coordinate\n",
    "    \n",
    "    (theta)   angle between the pendulum and the vertical axis\n",
    "\n",
    "The Inverted pendulum on the cart can be modeled as follows\n",
    "\n",
    "$$(M+m)\\ddot{y} + b\\dot{y} + ml\\ddot{\\theta}\\cos\\theta -ml\\dot\\theta^2\\sin(\\theta) = F$$\n",
    "\n",
    "$$ml\\cos(\\theta)\\ddot{y} + (I+ml^2)\\ddot{\\theta} - mgl\\sin\\theta = 0$$    \n",
    "\n",
    "Let $y_1 = \\dot{y}$ and $\\theta_1 = \\dot{\\theta}$\n",
    "\n",
    "The linearalised model have the following form\n",
    "\n",
    "$$\\dot x = Ax + B(u+w)$$\n",
    "\n",
    "where state vector $x = (y,y_1,\\theta,\\theta_1)$, control vector $u$, disturbance $w$, and $F = u+w$. \n",
    "\n",
    "$$\\left[\\begin{array}{c}\\dot{y} \\\\ \\dot{y1} \\\\ \\dot{\\theta} \\\\ \\dot{\\theta_1}\\end{array}\\right]=\n",
    "\\left[\\begin{array}{cccc}0 & 1 & 0 & 0 \\\\\n",
    "0 & \\frac{-\\left(I+m l^2\\right) b}{I(M+m)+M m l^2}& \\frac{-g m^2 l^2}{I(M+m)+M m l^2} & 0 \\\\\n",
    "0 & 0 & 0 & 1 \\\\\n",
    "0 & \\frac{m l b}{I(M+m)+M m l^2} & \\frac{m g l(M+m)}{I(M+m)+M m l^2} & 0\\end{array}\\right]\n",
    "\\left[\\begin{array}{c}y \\\\ y_1\\\\ \\theta \\\\ \\theta_1\\end{array}\\right]+\n",
    "\\left[\\begin{array}{c}0 \\\\ \\frac{I+m l^2}{I(M+m)+M m l^2} \\\\ 0\\\\ \\frac{-m l}{I(M+m)+M m l^2}\\end{array}\\right] (u+w)$$\n",
    "\n",
    "## TODO\n",
    "\n",
    "1) Check on the code below implementing a PID controller ensuring tracking to the reference signal $\\theta_{ref}$ = 0 rad, while supposing that the system is subject to a constant disturbance $w(t) = 0.1$. Is it a good controller for achieving the desirable behavior of the system?\n",
    "2) Design a full-state linear feedback regulator u = -Kx that stabilize non distubed ($w(t) = 0$) system in (0,0,0,0).\n",
    "\n",
    "    2.1 Is the system controllable? Why is it important? \n",
    "\n",
    "    2.2 Use control.place function from control library https://python-control.readthedocs.io/en/0.9.4/ to place eigenvalues lam_1 = -1, lam_2 = -2, lam_3 = -3, lam_4 = -4 in the closed-loop system. I.e. find a K, such that eig(A-BK) = [-1,-2,-3,-4]. Let $x_0 = (1,0,1,0)$ plot the corresponding trajectories of the closed-loop system. Is the system controlled by the regulator u =-Kx stable?\n",
    "\n",
    "    2.3 Use the LQR regulator to stabilize the system around zero. Plot the trajectory of controlled system starting from $x_0 = (1,0,1,0).$ Analyze how the different choice of weight matrices Q and R affects the closed-loop system behavior. control.lqr from the control library https://python-control.readthedocs.io/en/0.9.4/ might be useful for you.\n",
    "3)Analyse the response of the system controlled with an LQR regulator for different types of disturbances (like $w(t) = 0.1, w(t) = 10.0, w(t) = sin(t)$ etc...). What conclusion can you make?    "
   ]
  },
  {
   "cell_type": "code",
   "execution_count": 1,
   "id": "06e12e7b-3c3b-4493-9ce8-991c079b771b",
   "metadata": {},
   "outputs": [],
   "source": [
    "import numpy as np\n",
    "from scipy.integrate import odeint\n",
    "import matplotlib.pyplot as plt\n",
    "import control as ctr\n",
    "\n",
    "# x is a state vecot, t is a current time, A is a dynamic matrix, B is a control matrix, D is a disturbance matrix, \n",
    "# u_func(t) is a control input, w_func(t) is a disturbance input \n",
    "def StateSpace(x, t, A, B, D, u_func, w_func):\n",
    "    w = w_func(t)\n",
    "    u = u_func(t)\n",
    "    return np.dot(A, x) + np.dot(B, u).flatten() + np.dot(D, w).flatten()\n",
    "\n",
    "# OpenLoopInputOutputSystem with time-dependent w(t)\n",
    "def OpenLoopInputOutputSystem(A, B, D, C, u_func, w_func, T, x0):\n",
    "    # Solve the ODE system with odeint, passing the time-dependent w function\n",
    "    solution = odeint(StateSpace, x0, T, args=(A, B, D, u_func, w_func))\n",
    "    # Output calculation using C and the solution\n",
    "    # return (C @ solution.T) \n",
    "    return (solution.T) \n",
    "\n",
    "def PID(A, B, D, C, Kp, Ki, Kd, r_func, w_func, T, x0):\n",
    "    z0 = np.array([[0.0]])\n",
    "    x_a =  np.block([[x0.reshape(-1,1)],[z0]])\n",
    "    M = np.eye(x0.shape[0]) + Kd*B @ C\n",
    "    A_a = np.block([[np.linalg.inv(M) @ (A - Kp * B @ C), -Ki * np.linalg.inv(M) @ B ], [C, np.array([0.0])]])\n",
    "    B_a =  np.block([[Kp * np.linalg.inv(M) @ B ], [np.array([1.0])]])\n",
    "    D_a = np.block([[np.linalg.inv(M) @ D],[np.array([[0.0]])]])\n",
    "    C_a = np.block([C, np.array([[0.0]])])\n",
    "    return OpenLoopInputOutputSystem(A_a, B_a, D_a, C_a, r_func, w_func, T, x_a.flatten()).T    "
   ]
  },
  {
   "cell_type": "code",
   "execution_count": 2,
   "id": "0fd0ddf2-1957-49cb-863b-5c46b8e4136d",
   "metadata": {},
   "outputs": [
    {
     "data": {
      "text/plain": [
       "Text(0, 0.5, 'Position ')"
      ]
     },
     "execution_count": 2,
     "metadata": {},
     "output_type": "execute_result"
    },
    {
     "data": {
      "image/png": "[encoded data removed]",
      "text/plain": [
       "<Figure size 864x360 with 2 Axes>"
      ]
     },
     "metadata": {
      "needs_background": "light"
     },
     "output_type": "display_data"
    }
   ],
   "source": [
    "import sympy as sp\n",
    "from matplotlib.pyplot import *\n",
    "# Answer to EX1 q1 using symbolic calculs\n",
    "# Define symbolic variables\n",
    "M, m, b, l, I, g, F = sp.symbols('M m b l I g F')\n",
    "y, y1, theta, theta1, doty1, dottheta1 = sp.symbols('y y1 theta theta1 doty1 dottheta1')\n",
    "\n",
    "# Define the differential equations of the system\n",
    "eq1 = (M+m)*doty1 + b*y1 + m*l*dottheta1*sp.cos(theta) - m*l*theta1**2*sp.sin(theta) - F\n",
    "eq2 = m*l*sp.cos(theta)*doty1 + (I+m*l**2)*dottheta1 - m*g*l*sp.sin(theta)\n",
    "\n",
    "# Solve for the first derivative of theta1 (angular velocity)\n",
    "dottheta1_sol = sp.solve(eq2, dottheta1)[0]\n",
    "\n",
    "# Solve for the first derivative of y1 (linear velocity)\n",
    "doty1_sol = sp.simplify(sp.solve(eq1.subs(dottheta1, dottheta1_sol), doty1)[0])\n",
    "dottheta1_sol = sp.simplify(dottheta1_sol.subs(doty1,doty1_sol))\n",
    "\n",
    "# Define the state-space representation of the system dynamics\n",
    "f1 = y1\n",
    "f2 = doty1_sol \n",
    "f3 = theta1\n",
    "f4 = dottheta1_sol\n",
    "f = sp.Matrix([f1, f2, f3, f4])\n",
    "\n",
    "# Define state and control variables\n",
    "variables_x = sp.Matrix([y,y1,theta,theta1])\n",
    "variables_u = sp.Matrix([F])\n",
    "\n",
    "# Compute the Jacobian matrices of the system\n",
    "jacobian_A = sp.simplify(f.jacobian(variables_x).subs([(theta,0), (theta1,0)]))\n",
    "jacobian_B = sp.simplify(f.jacobian(variables_u).subs([(theta,0), (theta1,0)]))\n",
    "\n",
    "A = np.array(jacobian_A.subs({M:2.5, m:0.2, b:0.1,l:0.7, I:0.006, g:9.81}).evalf()).astype(float)\n",
    "B = np.array(jacobian_B.subs({M:2.5, m:0.2, b:0.1,l:0.7, I:0.006, g:9.81}).evalf()).astype(float).reshape(4,1)\n",
    "C = np.array([[1,0,0,0],[0,0,1,0]]) \n",
    "D = B\n",
    "\n",
    "x0 = np.array([0,\n",
    "               0,\n",
    "               0,\n",
    "               0])  # initial state\n",
    "\n",
    "MatC = np.array([[0,0,1,0]]) # Let us assume that we measure only theta\n",
    "\n",
    "Kp= 120;\n",
    "Ki = 80;\n",
    "Kd = 50;\n",
    "\n",
    "t0 = 0 # Initial time \n",
    "tf = 2 # Final time\n",
    "T = np.linspace(t0, tf, 1000) \n",
    "\n",
    "def w_func(t):\n",
    "       return 0.1# Disturbance input\n",
    "\n",
    "def r_func(t):\n",
    "       return 0.0# Disturbance input\n",
    "\n",
    "\n",
    "solution = PID(A, B, D, MatC , Kp, Ki, Kd, r_func, w_func, T, x0)\n",
    "\n",
    "\n",
    "figure(figsize=(12, 5))\n",
    "y = solution[:,2]\n",
    "\n",
    "subplot(1, 2, 1)\n",
    "plot(T, y, linewidth=2.0, color = 'red')\n",
    "grid(color='black', linestyle='--', linewidth=1.0, alpha = 0.7)\n",
    "grid(True)\n",
    "xlabel('time')\n",
    "xlim([t0, tf])\n",
    "plt.legend(['PID(120,80, 50)' ])\n",
    "ylabel(r'Angle ')\n",
    "\n",
    "y = solution[:,0]\n",
    "subplot(1, 2, 2)\n",
    "plot(T, y, linewidth=2.0, color = 'red')\n",
    "grid(color='black', linestyle='--', linewidth=1.0, alpha = 0.7)\n",
    "grid(True)\n",
    "xlim([t0, tf])\n",
    "xlabel('time')\n",
    "plt.legend(['PID(120,80, 50)' ])\n",
    "ylabel(r'Position ')"
   ]
  },
  {
   "cell_type": "markdown",
   "id": "d9cecd4f",
   "metadata": {},
   "source": [
    "### Question 2.1 : Is the system controllable ?"
   ]
  },
  {
   "cell_type": "code",
   "execution_count": 3,
   "id": "ac5bbf16",
   "metadata": {},
   "outputs": [
    {
     "name": "stdout",
     "output_type": "stream",
     "text": [
      "System is controllable.\n"
     ]
    }
   ],
   "source": [
    "D = np.zeros((2,1))\n",
    "sys = ctr.ss(A, B, C, D)\n",
    "\n",
    "ctrb_m = ctr.ctrb(sys.A, sys.B)\n",
    "C_rank = np.linalg.matrix_rank(ctrb_m)\n",
    "\n",
    "if C_rank==4:\n",
    "    print(\"System is controllable.\")"
   ]
  },
  {
   "cell_type": "markdown",
   "id": "de59937a",
   "metadata": {},
   "source": [
    "System controllability is important because it is equivalent to the possibility to control it with a LQR regulator."
   ]
  },
  {
   "cell_type": "markdown",
   "id": "d5fc6ec9",
   "metadata": {},
   "source": [
    "### Question 2.2 : Is the system stable ?"
   ]
  },
  {
   "cell_type": "code",
   "execution_count": 4,
   "id": "2c1ad5ed",
   "metadata": {},
   "outputs": [],
   "source": [
    "K = ctr.place(A, B, [-1, -2, -3, -4])\n",
    "\n",
    "A_2 = A - np.dot(B, K)\n",
    "x0 = np.array([1, 0, 1, 0])\n",
    "tf = 6\n",
    "T = np.linspace(t0, tf, 1000)\n",
    "\n",
    "solution = OpenLoopInputOutputSystem(A_2, B, np.zeros_like(B), np.eye(4), lambda t: 0, lambda t: 0, T, x0)"
   ]
  },
  {
   "cell_type": "code",
   "execution_count": 5,
   "id": "e3ca01f1",
   "metadata": {},
   "outputs": [
    {
     "name": "stdout",
     "output_type": "stream",
     "text": [
      "(4, 1000)\n"
     ]
    },
    {
     "data": {
      "text/plain": [
       "Text(0, 0.5, 'Position ')"
      ]
     },
     "execution_count": 5,
     "metadata": {},
     "output_type": "execute_result"
    },
    {
     "data": {
      "image/png": "[encoded data removed]",
      "text/plain": [
       "<Figure size 864x360 with 2 Axes>"
      ]
     },
     "metadata": {
      "needs_background": "light"
     },
     "output_type": "display_data"
    }
   ],
   "source": [
    "figure(figsize=(12, 5))\n",
    "y = solution[2, :]\n",
    "print(solution.shape)\n",
    "\n",
    "subplot(1, 2, 1)\n",
    "plot(T, y, linewidth=2.0, color = 'red')\n",
    "grid(color='black', linestyle='--', linewidth=1.0, alpha = 0.7)\n",
    "grid(True)\n",
    "xlabel('time')\n",
    "xlim([t0, tf])\n",
    "plt.legend(['LQR' ])\n",
    "ylabel(r'Angle ')\n",
    "\n",
    "y = solution[0, :]\n",
    "subplot(1, 2, 2)\n",
    "plot(T, y, linewidth=2.0, color = 'red')\n",
    "grid(color='black', linestyle='--', linewidth=1.0, alpha = 0.7)\n",
    "grid(True)\n",
    "xlim([t0, tf])\n",
    "xlabel('time')\n",
    "plt.legend(['LQR' ])\n",
    "ylabel(r'Position ')"
   ]
  },
  {
   "cell_type": "markdown",
   "id": "1a4152e4",
   "metadata": {},
   "source": [
    "The system controlled by this regulator is asymptotically stable because all eigenvalues have negative real parts."
   ]
  },
  {
   "cell_type": "markdown",
   "id": "ec9dadfd",
   "metadata": {},
   "source": [
    "### Question 2.3 : Use the LQR"
   ]
  },
  {
   "cell_type": "code",
   "execution_count": 6,
   "id": "df2e4cf0-92e9-4511-b8dd-5339a9c5662e",
   "metadata": {},
   "outputs": [
    {
     "name": "stdout",
     "output_type": "stream",
     "text": [
      "[[ -4.56443862  -9.60924712 -95.17772583 -25.72115501]]\n"
     ]
    },
    {
     "data": {
      "text/plain": [
       "Text(0, 0.5, 'Position ')"
      ]
     },
     "execution_count": 6,
     "metadata": {},
     "output_type": "execute_result"
    },
    {
     "data": {
      "image/png": "[encoded data removed]",
      "text/plain": [
       "<Figure size 864x360 with 2 Axes>"
      ]
     },
     "metadata": {
      "needs_background": "light"
     },
     "output_type": "display_data"
    }
   ],
   "source": [
    "Q = 100*np.eye(4)\n",
    "R = np.eye(1)\n",
    "\n",
    "K2, S, E = ctr.lqr(sys, Q, R)\n",
    "\n",
    "A_2 = A - np.dot(B, K2)\n",
    "x0 = np.array([1, 0, 1, 0])\n",
    "tf = 6\n",
    "T = np.linspace(t0, tf, 1000)\n",
    "\n",
    "print(K)\n",
    "\n",
    "solution = OpenLoopInputOutputSystem(A_2, B, np.zeros_like(B), np.eye(4), lambda t: 0, lambda t: 0, T, x0)\n",
    "\n",
    "figure(figsize=(12, 5))\n",
    "y = solution[2, :]\n",
    "\n",
    "subplot(1, 2, 1)\n",
    "plot(T, y, linewidth=2.0, color = 'red')\n",
    "grid(color='black', linestyle='--', linewidth=1.0, alpha = 0.7)\n",
    "grid(True)\n",
    "xlabel('time')\n",
    "xlim([t0, tf])\n",
    "ylim([-5,5])\n",
    "plt.legend(['LQR' ])\n",
    "ylabel(r'Angle ')\n",
    "\n",
    "y = solution[0, :]\n",
    "subplot(1, 2, 2)\n",
    "plot(T, y, linewidth=2.0, color = 'red')\n",
    "grid(color='black', linestyle='--', linewidth=1.0, alpha = 0.7)\n",
    "grid(True)\n",
    "xlim([t0, tf])\n",
    "ylim([-5,5])\n",
    "xlabel('time')\n",
    "plt.legend(['LQR' ])\n",
    "ylabel(r'Position ')"
   ]
  },
  {
   "cell_type": "markdown",
   "id": "5103bd4a-cc87-4880-bc52-d92d09c1efde",
   "metadata": {},
   "source": [
    "## DC Motor Speed: System Modeling\n",
    "\n",
    "A common actuator in control systems is the DC motor. It directly provides rotary motion and, coupled with wheels or drums and cables, can provide translational motion. The electric equivalent circuit of the armature and the free-body diagram of the rotor are shown in the following figure.\n",
    "\n",
    "For this example, we will assume that the input of the system is the voltage source ($V$) applied to the motor's armature, while the output is the rotational speed of the shaft $\\dot{\\theta}$. The rotor and shaft are assumed to be rigid. We further assume a viscous friction model, that is, the friction torque is proportional to shaft angular velocity. We will assume that the magnetic field is constant and, therefore, that the motor torque is proportional (with constant $K_t$) to only the armature current. Let us remark that in SI units the motor torque and back emf constants are equal, that is, $K_t = K_e$;\n",
    "\n",
    "The physical parameters for our example are:\n",
    "\n",
    "    (J)   moment of inertia of the rotor     0.01 kg.m^2\n",
    "\n",
    "    (b)     motor viscous friction constant    0.1 N.m.s\n",
    "\n",
    "    (Ke)    electromotive force constant       0.01 V/rad/sec\n",
    "\n",
    "    (Kt)    motor torque constant              0.01 N.m/Amp\n",
    "\n",
    "    (R)     electric resistance                1 Ohm\n",
    "\n",
    "    (L)     electric inductance                0.5 H\n",
    "    \n",
    "\n",
    "Let us suppose that the measured output of the system is the angular velocity of the rotor $\\dot{\\theta}$ and the current intensity $\\dot{i}$. Then the state space model of the system is the following:\n",
    "$$\\dot x = Ax + Bu$$\n",
    "\n",
    "$$ y = Cx$$\n",
    "\n",
    "where state vector $x=(\\dot{\\theta}, i)$, control vector $u=V$, and state and control matrices are the following\n",
    "\n",
    "$$ A = \\begin{pmatrix} -\\frac{b}{J}&\\frac{K}{J}\\\\ -\\frac{K}{L}&-\\frac{R}{L}\\end{pmatrix},\\ B = \\begin{pmatrix} 0\\\\ \\frac{1}{L} \n",
    "\\end{pmatrix}$$\n",
    "\n",
    "\n",
    "1. Design a LQR regulator that stabilizes the system in the zero.\n",
    "2. Design a LQR regulator, that enables tracking a given constant reference for the angular velocity, while assuming that $i_{ref} = 0$. Use integral action to ensure robust tracking. Check the behavior of the closed loop system for $r = 1 rad/c$."
   ]
  },
  {
   "cell_type": "code",
   "execution_count": null,
   "id": "ec05b530-845b-427d-8f01-2b1ce56ca7ce",
   "metadata": {},
   "outputs": [],
   "source": []
  }
 ],
 "metadata": {
  "kernelspec": {
   "display_name": "Python 3 (ipykernel)",
   "language": "python",
   "name": "python3"
  },
  "language_info": {
   "codemirror_mode": {
    "name": "ipython",
    "version": 3
   },
   "file_extension": ".py",
   "mimetype": "text/x-python",
   "name": "python",
   "nbconvert_exporter": "python",
   "pygments_lexer": "ipython3",
   "version": "3.10.12"
  }
 },
 "nbformat": 4,
 "nbformat_minor": 5
}
