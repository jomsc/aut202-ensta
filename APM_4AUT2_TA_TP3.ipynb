{
 "cells": [
  {
   "cell_type": "markdown",
   "id": "8160c335-a0a3-4ec4-8ff3-e05e884e91c4",
   "metadata": {},
   "source": [
    "# Control theory. Course introduction.\n",
    "\n",
    "## TP3. Controllability and Observability\n",
    "## Study load\n",
    "\n",
    "Course grade breakdown:\n",
    "\n",
    "    Labs - 40%\n",
    "    \n",
    "    Final project presentation 30%\n",
    "\n",
    "    Final test 30%\n",
    "    \n",
    "File name for lab submission: yourname_labnumber.ipynb (example: elenavanneaux_TP2.ipynb)    \n",
    "\n",
    "The completed notebooks should be sent to your tutor (elena.vanneaux@ensta.fr or adnan.saood@ensta.fr) before the beginning of the next session. Please add [APM_4AUT2_TA] to the topic of e-mail.\n",
    "\n",
    "## Prerequisites for practice\n",
    "### Math\n",
    "During the course, we will cover the following areas of mathematics:\n",
    "    \n",
    "    1. Linear Algebra\n",
    "\n",
    "    2. Calculus\n",
    "\n",
    "    3. Differential equations\n",
    "\n",
    "    4. Dynamics (Mechanics and Physics)\n",
    "\n",
    "### Python programming\n",
    "In the labs we will use a Python programming language and the following libraries:\n",
    "\n",
    "    1. NumPy https://numpy.org/doc/stable/\n",
    "\n",
    "    2. SciPy https://docs.scipy.org/doc/scipy/\n",
    "\n",
    "    3. Matplotlib https://matplotlib.org/stable/tutorials/index\n",
    "\n",
    "    4. SymPy https://docs.sympy.org/latest/tutorials/intro-tutorial/intro.html\n",
    "\n",
    "    5. Control System Library https://python-control.readthedocs.io/en/0.10.1/intro.html\n",
    "\n",
    "### Jupyter Notebook Markdown Cells Documentation\n",
    "\n",
    "Please check on Markdown cells documentation, to provide a fancy look for your notebooks!\n",
    "\n",
    "https://jupyter-notebook.readthedocs.io/en/stable/examples/Notebook/Working%20With%20Markdown%20Cells.html"
   ]
  },
  {
   "cell_type": "code",
   "execution_count": 1,
   "id": "3ebff546-acb3-4970-9d8f-0f862204772c",
   "metadata": {},
   "outputs": [],
   "source": [
    "import numpy as np\n",
    "from scipy.integrate import odeint\n",
    "import matplotlib.pyplot as plt\n",
    "\n",
    "# x is a state vecot, t is a current time, A is a dynamic matrix, B is a control matrix, D is a disturbance matrix, \n",
    "# u_func(t) is a control input, w_func(t) is a disturbance input \n",
    "def StateSpace(x, t, A, B, D, u_func, w_func):\n",
    "    w = w_func(t)\n",
    "    u = u_func(t)\n",
    "    return np.dot(A, x) + np.dot(B, u).flatten() + np.dot(D, w).flatten()\n",
    "\n",
    "# OpenLoopInputOutputSystem with time-dependent w(t)\n",
    "def OpenLoopInputOutputSystem(A, B, D, C, u_func, w_func, T, x0):\n",
    "    # Solve the ODE system with odeint, passing the time-dependent w function\n",
    "    solution = odeint(StateSpace, x0, T, args=(A, B, D, u_func, w_func))\n",
    "    # Output calculation using C and the solution\n",
    "    # return (C @ solution.T) \n",
    "    return (solution.T) \n",
    "\n",
    "def PID(A, B, D, C, Kp, Ki, Kd, r_func, w_func, T, x0):\n",
    "    z0 = np.array([[0.0]])\n",
    "    x_a =  np.block([[x0.reshape(-1,1)],[z0]])\n",
    "    M = np.eye(x0.shape[0]) + Kd*B @ C\n",
    "    A_a = np.block([[np.linalg.inv(M) @ (A - Kp * B @ C), -Ki * np.linalg.inv(M) @ B ], [C, np.array([0.0])]])\n",
    "    B_a =  np.block([[Kp * np.linalg.inv(M) @ B ], [np.array([1.0])]])\n",
    "    D_a = np.block([[np.linalg.inv(M) @ D],[np.array([[0.0]])]])\n",
    "    C_a = np.block([C, np.array([[0.0]])])\n",
    "    return OpenLoopInputOutputSystem(A_a, B_a, D_a, C_a, r_func, w_func, T, x_a.flatten()).T"
   ]
  },
  {
   "cell_type": "code",
   "execution_count": 2,
   "id": "bdbecbf3-6b4a-4250-acab-91864a74deb0",
   "metadata": {},
   "outputs": [
    {
     "data": {
      "text/plain": [
       "Text(0, 0.5, 'Position ')"
      ]
     },
     "execution_count": 2,
     "metadata": {},
     "output_type": "execute_result"
    },
    {
     "data": {
      "image/png": "[encoded data removed]",
      "text/plain": [
       "<Figure size 864x360 with 2 Axes>"
      ]
     },
     "metadata": {
      "needs_background": "light"
     },
     "output_type": "display_data"
    }
   ],
   "source": [
    "import sympy as sp\n",
    "from matplotlib.pyplot import *\n",
    "# Answer to EX1 q1 using symbolic calculs\n",
    "# Define symbolic variables\n",
    "M, m, b, l, I, g, F = sp.symbols('M m b l I g F')\n",
    "y, y1, theta, theta1, doty1, dottheta1 = sp.symbols('y y1 theta theta1 doty1 dottheta1')\n",
    "\n",
    "# Define the differential equations of the system\n",
    "eq1 = (M+m)*doty1 + b*y1 + m*l*dottheta1*sp.cos(theta) - m*l*theta1**2*sp.sin(theta) - F\n",
    "eq2 = m*l*sp.cos(theta)*doty1 + (I+m*l**2)*dottheta1 - m*g*l*sp.sin(theta)\n",
    "\n",
    "# Solve for the first derivative of theta1 (angular velocity)\n",
    "dottheta1_sol = sp.solve(eq2, dottheta1)[0]\n",
    "\n",
    "# Solve for the first derivative of y1 (linear velocity)\n",
    "doty1_sol = sp.simplify(sp.solve(eq1.subs(dottheta1, dottheta1_sol), doty1)[0])\n",
    "dottheta1_sol = sp.simplify(dottheta1_sol.subs(doty1,doty1_sol))\n",
    "\n",
    "# Define the state-space representation of the system dynamics\n",
    "f1 = y1\n",
    "f2 = doty1_sol \n",
    "f3 = theta1\n",
    "f4 = dottheta1_sol\n",
    "f = sp.Matrix([f1, f2, f3, f4])\n",
    "\n",
    "# Define state and control variables\n",
    "variables_x = sp.Matrix([y,y1,theta,theta1])\n",
    "variables_u = sp.Matrix([F])\n",
    "\n",
    "# Compute the Jacobian matrices of the system\n",
    "jacobian_A = sp.simplify(f.jacobian(variables_x).subs([(theta,0), (theta1,0)]))\n",
    "jacobian_B = sp.simplify(f.jacobian(variables_u).subs([(theta,0), (theta1,0)]))\n",
    "\n",
    "A = np.array(jacobian_A.subs({M:2.5, m:0.2, b:0.1,l:0.7, I:0.006, g:9.81}).evalf()).astype(float)\n",
    "B = np.array(jacobian_B.subs({M:2.5, m:0.2, b:0.1,l:0.7, I:0.006, g:9.81}).evalf()).astype(float).reshape(4,1)\n",
    "C = np.array([[1,0,0,0],[0,0,1,0]]) \n",
    "D = B\n",
    "\n",
    "x0 = np.array([0,\n",
    "               0,\n",
    "               0,\n",
    "               0])  # initial state\n",
    "\n",
    "MatC = np.array([[0,0,1,0]]) # Let us assume that we measure only theta\n",
    "y_ref = 1 # and we want to track constant reference equal to 1 rad. The latter correspond a state responce if the system\n",
    "\n",
    "Kp= 120;\n",
    "Ki = 80;\n",
    "Kd = 50;\n",
    "\n",
    "t0 = 0 # Initial time \n",
    "tf = 2 # Final time\n",
    "T = np.linspace(t0, tf, 1000) \n",
    "\n",
    "def w_func(t):\n",
    "       return 1.0# Disturbance input\n",
    "\n",
    "def r_func(t):\n",
    "       return 0.0# Disturbance input\n",
    "\n",
    "\n",
    "solution = PID(A, B, D, MatC , Kp, Ki, Kd, r_func, w_func, T, x0)\n",
    "\n",
    "\n",
    "figure(figsize=(12, 5))\n",
    "y = solution[:,2]\n",
    "\n",
    "subplot(1, 2, 1)\n",
    "plot(T, y, linewidth=2.0, color = 'red')\n",
    "grid(color='black', linestyle='--', linewidth=1.0, alpha = 0.7)\n",
    "grid(True)\n",
    "xlabel('time')\n",
    "xlim([t0, tf])\n",
    "plt.legend(['PID(120,80, 50)' ])\n",
    "ylabel(r'Angle ')\n",
    "\n",
    "y = solution[:,0]\n",
    "subplot(1, 2, 2)\n",
    "plot(T, y, linewidth=2.0, color = 'red')\n",
    "grid(color='black', linestyle='--', linewidth=1.0, alpha = 0.7)\n",
    "grid(True)\n",
    "xlim([t0, tf])\n",
    "xlabel('time')\n",
    "plt.legend(['PID(120,80, 50)' ])\n",
    "ylabel(r'Position ')"
   ]
  },
  {
   "cell_type": "markdown",
   "id": "74d78fa5-6a8f-46c7-830e-547c1b83c6a2",
   "metadata": {},
   "source": [
    "## Ex 1. Duality of Controllability and Observability\n",
    "\n",
    "Prove that a pair of matrices (A,B) is controllable if and only if a pair of matrices (A^T, B^T) is observable."
   ]
  },
  {
   "cell_type": "markdown",
   "id": "1d69fe1a",
   "metadata": {},
   "source": [
    "First, let's prove that $ rank(A)=rank(A^\\intercal)$.\n",
    "\n",
    "The rank of a matrix is the number of independent rows or column of that matrix. As the transpose transforms the rows in columns and vice-versa, the number of independent columns in A is equal to the number of independant rows in A^T. Thus : \n",
    "$$ rank(A)=rank(A^\\intercal) $$\n",
    "\n",
    "Now, let's prove that $(A,B)$ is controllable if and only if $(A^T, B^T)$ is observable.\n",
    "\n",
    "$(A,B)$ is controllable, so : \n",
    "$$\n",
    "rank(\\mathcal{C}(A,B)) = n\n",
    "$$\n",
    "Then :\n",
    "$$\n",
    "rank(\\mathcal{C}(A,B)^\\intercal) = n\n",
    "$$\n",
    "Which means :\n",
    "$$\n",
    "rank \\begin{bmatrix} B^T \\\\ (AB)^T \\\\ ... \\\\ (A^{n-1}B)^T \\end{bmatrix} = n\n",
    "$$\n",
    "Which is equivalent to :\n",
    "$$\n",
    "rank \\begin{bmatrix} B^T \\\\ B^T A^T \\\\ ... \\\\ B^T A^{n-1} \\end{bmatrix} = n\n",
    "$$\n",
    "\n",
    "Which, according to the definition of an observable pair of matrixes, is equivalent to $rank(\\mathcal{O}(A^T,B^T)) = n$.\n",
    "\n",
    "We thus proved the question."
   ]
  },
  {
   "cell_type": "markdown",
   "id": "bc0cdef5-387e-446f-a3e9-8ccbee8ad3d6",
   "metadata": {},
   "source": [
    "## Ex 2. Invariance Under Nonsingular Transformations.\n",
    "\n",
    "Consider $\\dot x = Ax + Bu$ and similarity transformation $\\tilde x = Tx$, where $T$ is invertible.\n",
    "\n",
    "Prove that the system $\\dot x = Ax + Bu$ is controllable if and only if the system  $\\dot {\\tilde x} = \\tilde{A}\\tilde{x} + \\tilde{B}u$ is controllable."
   ]
  },
  {
   "cell_type": "markdown",
   "id": "13d60157",
   "metadata": {},
   "source": [
    "Kalman's Controllability Rank Condition states that this system is controllable if and only if $rank(C(\\tilde{A},\\tilde{B})) = n$\n",
    "\n",
    "Which is equivalent to :\n",
    "$$\n",
    "rank \\begin{bmatrix} \\tilde{B} & \\tilde{A}\\tilde{B} & ... & \\tilde{A}^{n-1}\\tilde{B}\\end{bmatrix} = n\n",
    "$$\n",
    "\n",
    "Which is equivalent to : \n",
    "$$\n",
    "rank \\begin{bmatrix} TB & (TAT^{-1})TB & ... & (TAT^{-1})^{n-1}TB\\end{bmatrix} = n\n",
    "$$\n",
    "\n",
    "T is invertible, which gives : \n",
    "$$\n",
    "rank \\begin{bmatrix} TB & TAB & ... & TA^{n-1}B\\end{bmatrix} = n\n",
    "$$\n",
    "\n",
    "Which is equivalent to :\n",
    "$$rank( \n",
    "T*\\begin{bmatrix} B & AB & ... & A^{n-1}B\\end{bmatrix}) = n$$\n",
    "\n",
    "T is invertible, so it is a full-rank matrix, so we have : \n",
    "$$ rank(T*A) = rank(A)$$\n",
    "\n",
    "Which means : \n",
    "$$rank \\begin{bmatrix} B & AB & ... & A^{n-1}B\\end{bmatrix} = n$$\n",
    "\n",
    "Which is the definition of the system $\\dot x = Ax+Bu$ being controllable."
   ]
  },
  {
   "cell_type": "markdown",
   "id": "0995a706-3a17-4a64-90a6-eb5c77ab0049",
   "metadata": {},
   "source": [
    "## Ex 3. Quadruple-Tank Process\n",
    "\n",
    "![WaterTanks.png](attachment:08b25ed2-2627-4f32-996f-e05af2180c8a.png)\n",
    "\n",
    "Let us consider the Quadruple-Tank Process. A schematic diagram of the process is shown in the Figure above. The\n",
    "target is to control the level in the lower two tanks with two pumps. The process inputs are $v_1$ and $v_2$ (input voltages to the pumps) and the outputs are $y_1$ and $y_2$ (water levels in the lower two tanks). Mass balances and Bernoulli’s law yield:\n",
    "\n",
    "$$\n",
    "\\dfrac{dh_1}{dt} = -\\dfrac{a_1}{A_1}\\sqrt{2gh_1} + \\dfrac{a_3}{A_1}\\sqrt{2gh_3} + \\dfrac{\\gamma_1k_1}{A_1}v_1 = f_1(h_1,h_2,h_3,h_4,v_1,v_2)\n",
    "$$\n",
    "$$\n",
    "\\dfrac{dh_2}{dt} = -\\dfrac{a_2}{A_2}\\sqrt{2gh_2} + \\dfrac{a_4}{A_2}\\sqrt{2gh_4} + \\dfrac{\\gamma_2k_2}{A_2}v_2 = f_2(h_1,h_2,h_3,h_4,v_1,v_2)\n",
    "$$\n",
    "$$\n",
    "\\dfrac{dh_3}{dt} = -\\dfrac{a_3}{A_3}\\sqrt{2gh_3} + \\dfrac{(1-\\gamma_2)k_2}{A_3}v_2 = f_3(h_1,h_2,h_3,h_4,v_1,v_2)\n",
    "$$\n",
    "$$\n",
    "\\dfrac{dh_4}{dt} = -\\dfrac{a_4}{A_4}\\sqrt{2gh_4} + \\dfrac{(1-\\gamma_1)k_1}{A_4}v_1 = f_4(h_1,h_2,h_3,h_4,v_1,v_2)\n",
    "$$\n",
    "where\n",
    "\n",
    "$A_i$ is a cross-section of Tank i\n",
    "\n",
    "$a_i$ is a cross-section of outlet hole of Tank i\n",
    "\n",
    "$h_i$ is a water level.\n",
    "\n",
    "The voltage applied to Pump $i$ is $v_i$ and the corresponding flow\n",
    "is $k_iv_i$. The parameters $\\gamma_1,\\gamma_2\\in (0,1)$ are determined from how the valves are set prior to experiment. The flow to Tank 1\n",
    "is $\\gamma_1k_1v_1$ and the flow to Tank 4 is $(1-\\gamma_1)k_1v_1$ and similarly\n",
    "for Tank 2 and Tank 3. The acceleration of gravity is denoted $g$.\n",
    "The measured level signals are $k_c h_1$ and $k_c h_2$. The parameter\n",
    "values of the laboratory process are given in the following table\n",
    "\n",
    "    A_1, A_3 [cm^2] 28\n",
    "    A_2, A_4 [cm^2] 32\n",
    "    a_1, a_3 [cm^2] 0.071\n",
    "    a_2, a_4 [cm^2] 0.057\n",
    "    k_c [V/cm] 0.50\n",
    "    g [cm/s^2] 9.81\n",
    "    k_1 [cm^3/Vs] 3.33\n",
    "    k_2 [cm^3/Vs] 3.35\n",
    "    gamma_1 0.70\n",
    "    gamma_2 0.60\n",
    "    \n",
    "Check the following paper for more details on the model. \n",
    "https://www.diva-portal.org/smash/get/diva2:495784/FULLTEXT01.pdf\n",
    "    \n",
    "## TODO\n",
    "1. Linearise the system around the operating point \n",
    "$$(h_1^0,h_2^0,h_3^0,h_4^0, v_1^0, v_2^0) = (12.4,12.7,1.8,1.4,3.00,3.00).$$\n",
    "Pass to shifted variables $x_i = h_i-h_i^0, u_i = v_i - v_i^0.$\n",
    "\n",
    "2. Is the linear system controllable? Is the linear system observable? Use the Kalman rank test to answer this question.\n",
    "\n",
    "3. Imagine that one of the pumps is broken and there is no flow through it. Does the system remain controllable?\n",
    "\n",
    "4. Let us measure the signals $x_3, x_4$ (i.e. matix $C = \\begin{pmatrix}0&0&1&0\\\\0&0&0&1\\end{pmatrix}$) instead of measuring the signals $x_1$ and $x_2.$ Is such a system observable?\n",
    "\n",
    "Remark. The functions control.ctrb and control.obsv from control system library might be useful to comple. https://python-control.readthedocs.io/en/0.10.1/generated/control.obsv.html "
   ]
  },
  {
   "cell_type": "markdown",
   "id": "5d7c986b",
   "metadata": {},
   "source": [
    "### Question 1\n",
    "Let's linearize the system around the given operating point, using the shifted variables $x_i = h_i -h_i^0$ and $u_i = v_i - v_i^0$.\n",
    "\n",
    "We get :\n",
    "$$\n",
    "\\large\n",
    "\\frac{dx}{dt} = \\begin{bmatrix} \n",
    "-\\frac{1}{T_1} & 0 & \\frac{A_3}{A_1 T_3} & 0 \\\\\n",
    "0 & -\\frac{1}{T_2} & 0 & \\frac{A_4}{A_2 T_4} \\\\\n",
    "0 & 0 & \\frac{-1}{T_3} & 0 \\\\\n",
    "0 & 0 & 0 & \\frac{-1}{T_4} \\end{bmatrix} x + \n",
    "\\begin{bmatrix} \n",
    "\\frac{\\gamma_1 k_1}{A_1} & 0 \\\\\n",
    "0 & \\frac{\\gamma_2 k_2}{A_2} \\\\\n",
    "0 & \\frac{(1-\\gamma_2) k_2}{A_3} \\\\\n",
    "\\frac{(1-\\gamma_1) k_1}{A_4} & 0 \\end{bmatrix} u \n",
    "$$\n",
    "\n",
    "$\\large T_i = \\frac{A_i}{a_i}\\sqrt{\\frac{2h_i^0}{g}}$, $i=1,..,4$"
   ]
  },
  {
   "cell_type": "markdown",
   "id": "4f4bed23",
   "metadata": {},
   "source": [
    "### Question 2 : is the system controllable and observable  ? \n",
    "\n",
    "We have $A = \\begin{bmatrix} \n",
    "-\\frac{1}{T_1} & 0 & \\frac{A_3}{A_1 T_3} & 0 \\\\\n",
    "0 & -\\frac{1}{T_2} & 0 & \\frac{A_4}{A_2 T_4} \\\\\n",
    "0 & 0 & \\frac{-1}{T_3} & 0 \\\\\n",
    "0 & 0 & 0 & \\frac{-1}{T_4} \\end{bmatrix}$, $B = \\begin{bmatrix} \n",
    "\\frac{\\gamma_1 k_1}{A_1} & 0 \\\\\n",
    "0 & \\frac{\\gamma_2 k_2}{A_2} \\\\\n",
    "0 & \\frac{(1-\\gamma_2) k_2}{A_3} \\\\\n",
    "\\frac{(1-\\gamma_1) k_1}{A_4} & 0 \\end{bmatrix}$,  $C = \\begin{bmatrix} k_c &0&0&0 \\\\ 0& k_c &0&0 \\end{bmatrix}$ and $ D = \\begin{bmatrix}0&0\\\\0&0\\end{bmatrix} $\n",
    "\n",
    "Let's use the python control library to find out if the system is controllable."
   ]
  },
  {
   "cell_type": "code",
   "execution_count": 5,
   "id": "b160a0de",
   "metadata": {
    "collapsed": true
   },
   "outputs": [
    {
     "name": "stdout",
     "output_type": "stream",
     "text": [
      "Defaulting to user installation because normal site-packages is not writeable\n",
      "Collecting control\n",
      "  Downloading control-0.10.1-py3-none-any.whl (549 kB)\n",
      "\u001b[2K     \u001b[38;2;114;156;31m━━━━━━━━━━━━━━━━━━━━━━━━━━━━━━━━━━━━━━━\u001b[0m \u001b[32m549.6/549.6 KB\u001b[0m \u001b[31m1.3 MB/s\u001b[0m eta \u001b[36m0:00:00\u001b[0mm eta \u001b[36m0:00:01\u001b[0m[36m0:00:01\u001b[0m\n",
      "\u001b[?25hRequirement already satisfied: numpy>=1.23 in /home/joseph/.local/lib/python3.10/site-packages (from control) (1.25.2)\n",
      "Requirement already satisfied: matplotlib>=3.6 in /home/joseph/.local/lib/python3.10/site-packages (from control) (3.10.0)\n",
      "Requirement already satisfied: scipy>=1.8 in /home/joseph/.local/lib/python3.10/site-packages (from control) (1.15.1)\n",
      "Requirement already satisfied: packaging>=20.0 in /home/joseph/.local/lib/python3.10/site-packages (from matplotlib>=3.6->control) (23.1)\n",
      "Requirement already satisfied: contourpy>=1.0.1 in /home/joseph/.local/lib/python3.10/site-packages (from matplotlib>=3.6->control) (1.3.1)\n",
      "Requirement already satisfied: python-dateutil>=2.7 in /usr/lib/python3/dist-packages (from matplotlib>=3.6->control) (2.8.1)\n",
      "Requirement already satisfied: cycler>=0.10 in /home/joseph/.local/lib/python3.10/site-packages (from matplotlib>=3.6->control) (0.12.1)\n",
      "Requirement already satisfied: kiwisolver>=1.3.1 in /home/joseph/.local/lib/python3.10/site-packages (from matplotlib>=3.6->control) (1.4.5)\n",
      "Requirement already satisfied: fonttools>=4.22.0 in /home/joseph/.local/lib/python3.10/site-packages (from matplotlib>=3.6->control) (4.55.8)\n",
      "Requirement already satisfied: pillow>=8 in /usr/lib/python3/dist-packages (from matplotlib>=3.6->control) (9.0.1)\n",
      "Requirement already satisfied: pyparsing>=2.3.1 in /usr/lib/python3/dist-packages (from matplotlib>=3.6->control) (2.4.7)\n",
      "Installing collected packages: control\n",
      "Successfully installed control-0.10.1\n"
     ]
    }
   ],
   "source": [
    "!pip install control"
   ]
  },
  {
   "cell_type": "code",
   "execution_count": 18,
   "id": "968bfc0d",
   "metadata": {},
   "outputs": [
    {
     "name": "stdout",
     "output_type": "stream",
     "text": [
      "[[-0.00159481  0.          0.00418585  0.        ]\n",
      " [ 0.         -0.00110699  0.          0.00333411]\n",
      " [ 0.          0.         -0.00418585  0.        ]\n",
      " [ 0.          0.          0.         -0.00333411]]\n",
      "[[0.08325    0.        ]\n",
      " [0.         0.0628125 ]\n",
      " [0.         0.04785714]\n",
      " [0.03121875 0.        ]]\n",
      "[[0.5 0.  0.  0. ]\n",
      " [0.  0.5 0.  0. ]]\n",
      "[[0. 0.]\n",
      " [0. 0.]]\n"
     ]
    }
   ],
   "source": [
    "import control\n",
    "import numpy as np\n",
    "\n",
    "# Let's input all the parameters :\n",
    "\n",
    "A_1, A_3 = 28, 28\n",
    "A_2, A_4 = 32, 32\n",
    "a_1, a_3 = 0.071, 0.071\n",
    "a_2, a_4 = 0.057, 0.057\n",
    "k_c = 0.50\n",
    "g = 9.81\n",
    "k_1 = 3.33\n",
    "k_2 = 3.35\n",
    "gamma_1 = 0.70\n",
    "gamma_2 = 0.60\n",
    "\n",
    "h01 = 12.4\n",
    "h02 = 12.7\n",
    "h03 = 1.8\n",
    "h04 = 1.4\n",
    "v01 = 3.00\n",
    "v02 = 3.00\n",
    "\n",
    "T1 = np.sqrt((2*h01)/g)*A_1/a_1\n",
    "T2 = np.sqrt((2*h02)/g)*A_2/a_2\n",
    "T3 = np.sqrt((2*h03)/g)*A_3/a_3\n",
    "T4 = np.sqrt((2*h04)/g)*A_4/a_4\n",
    "\n",
    "A = np.array([[-1/T1, 0, A_3/(A_1*T3), 0], [0, -1/T2, 0, A_4/(A_2*T4)], [0, 0, -1/T3, 0], [0, 0, 0, -1/T4]])\n",
    "B = np.array([[gamma_1*k_1/A_1, 0], [0, gamma_2*k_2/A_2], [0, (1-gamma_2)*k_2/A_3], [(1-gamma_1)*k_1/A_4, 0]])\n",
    "C = np.array([[k_c, 0, 0, 0], [0, k_c, 0, 0]])\n",
    "D = np.zeros((2,2))\n",
    "print(A)\n",
    "print(B)\n",
    "print(C)\n",
    "print(D)"
   ]
  },
  {
   "cell_type": "code",
   "execution_count": 25,
   "id": "67e0b09e",
   "metadata": {},
   "outputs": [
    {
     "name": "stdout",
     "output_type": "stream",
     "text": [
      "Controllability matrix rank : 4\n",
      "Observability matrix rank : 4\n"
     ]
    }
   ],
   "source": [
    "system = control.ss(A, B, C, D)\n",
    "\n",
    "ctrb_m = control.ctrb(system.A, system.B)\n",
    "obsv_m = control.obsv(system.A, system.C)\n",
    "C_rank = np.linalg.matrix_rank(ctrb_m)\n",
    "O_rank = np.linalg.matrix_rank(obsv_m)\n",
    "\n",
    "print(\"Controllability matrix rank :\", C_rank)\n",
    "print(\"Observability matrix rank :\", O_rank)"
   ]
  },
  {
   "cell_type": "markdown",
   "id": "e23696dd",
   "metadata": {},
   "source": [
    "We see that both ranks are equal to 4. As n is also equal to 4, the system is both controllable and observable."
   ]
  },
  {
   "cell_type": "markdown",
   "id": "d1ccb20c",
   "metadata": {},
   "source": [
    "### Question 3 : Does the system remain controllable with one of the two pumps broken ?\n",
    "\n",
    "First, let's suppose that pump number 1 is broken. We then have $B = \\begin{bmatrix} \n",
    "0 & 0 \\\\\n",
    "0 & \\frac{\\gamma_2 k_2}{A_2} \\\\\n",
    "0 & \\frac{(1-\\gamma_2) k_2}{A_3} \\\\\n",
    "0 & 0 \\end{bmatrix} $. \n",
    "Let's run the python code again to see the results."
   ]
  },
  {
   "cell_type": "code",
   "execution_count": 28,
   "id": "966e83b0",
   "metadata": {},
   "outputs": [
    {
     "name": "stdout",
     "output_type": "stream",
     "text": [
      "[[0.         0.        ]\n",
      " [0.         0.0628125 ]\n",
      " [0.         0.04785714]\n",
      " [0.         0.        ]]\n"
     ]
    }
   ],
   "source": [
    "B2 = np.array([[0, 0], [0, gamma_2*k_2/A_2], [0, (1-gamma_2)*k_2/A_3], [0, 0]])\n",
    "print(B2)"
   ]
  },
  {
   "cell_type": "code",
   "execution_count": 31,
   "id": "820be326",
   "metadata": {},
   "outputs": [
    {
     "name": "stdout",
     "output_type": "stream",
     "text": [
      "[[0.         0.        ]\n",
      " [0.         0.0628125 ]\n",
      " [0.         0.04785714]\n",
      " [0.         0.        ]]\n",
      "Controllability matrix rank : 3\n"
     ]
    }
   ],
   "source": [
    "B2 = np.array([[0, 0], [0, gamma_2*k_2/A_2], [0, (1-gamma_2)*k_2/A_3], [0, 0]])\n",
    "print(B2)\n",
    "\n",
    "system_2 = control.ss(A, B2, C, D)\n",
    "\n",
    "ctrb_m = control.ctrb(system_2.A, system_2.B)\n",
    "obsv_m = control.obsv(system_2.A, system_2.C)\n",
    "C_rank = np.linalg.matrix_rank(ctrb_m)\n",
    "O_rank = np.linalg.matrix_rank(obsv_m)\n",
    "\n",
    "print(\"Controllability matrix rank :\", C_rank)"
   ]
  },
  {
   "cell_type": "markdown",
   "id": "622adabb",
   "metadata": {},
   "source": [
    "We see that the rank of the controllability matrix drops to 3. Let's try for the other pump :"
   ]
  },
  {
   "cell_type": "code",
   "execution_count": 32,
   "id": "ca2a08ee",
   "metadata": {},
   "outputs": [
    {
     "name": "stdout",
     "output_type": "stream",
     "text": [
      "[[0.08325    0.        ]\n",
      " [0.         0.        ]\n",
      " [0.         0.        ]\n",
      " [0.03121875 0.        ]]\n",
      "Controllability matrix rank : 3\n"
     ]
    }
   ],
   "source": [
    "B3 = np.array([[gamma_1*k_1/A_1, 0], [0, 0], [0, 0], [(1-gamma_1)*k_1/A_4, 0]])\n",
    "print(B3)\n",
    "\n",
    "system_3 = control.ss(A, B3, C, D)\n",
    "\n",
    "ctrb_m = control.ctrb(system_3.A, system_3.B)\n",
    "obsv_m = control.obsv(system_3.A, system_3.C)\n",
    "C_rank = np.linalg.matrix_rank(ctrb_m)\n",
    "O_rank = np.linalg.matrix_rank(obsv_m)\n",
    "\n",
    "print(\"Controllability matrix rank :\", C_rank)"
   ]
  },
  {
   "cell_type": "markdown",
   "id": "4adba07a",
   "metadata": {},
   "source": [
    "We get the result we expected."
   ]
  },
  {
   "cell_type": "markdown",
   "id": "9e829144",
   "metadata": {},
   "source": [
    "Thus, the system is no longer controllable with one of the two pumps broken, which is logical."
   ]
  },
  {
   "cell_type": "markdown",
   "id": "a7af987e",
   "metadata": {},
   "source": [
    "### Question 4 : changing the measured signals to $x_3$ and $x_4$, does the system remain observable? "
   ]
  },
  {
   "cell_type": "markdown",
   "id": "9b178024",
   "metadata": {},
   "source": [
    "The only difference with the question 2 is the matrix C, which becomes $C = \\begin{bmatrix}0&0& k_c &0\\\\0&0&0& k_c\\end{bmatrix}$"
   ]
  },
  {
   "cell_type": "code",
   "execution_count": 34,
   "id": "ba0b1dac",
   "metadata": {},
   "outputs": [
    {
     "name": "stdout",
     "output_type": "stream",
     "text": [
      "Observability matrix rank : 2\n"
     ]
    }
   ],
   "source": [
    "C2 = np.array([[0, 0, k_c, 0], [0, 0, 0, k_c]])\n",
    "\n",
    "system_4 = control.ss(A, B, C2, D)\n",
    "\n",
    "ctrb_m = control.ctrb(system_4.A, system_4.B)\n",
    "obsv_m = control.obsv(system_4.A, system_4.C)\n",
    "C_rank = np.linalg.matrix_rank(ctrb_m)\n",
    "O_rank = np.linalg.matrix_rank(obsv_m)\n",
    "\n",
    "print(\"Observability matrix rank :\", O_rank)"
   ]
  },
  {
   "cell_type": "markdown",
   "id": "48403f10",
   "metadata": {},
   "source": [
    "The system isn't observable anymore."
   ]
  }
 ],
 "metadata": {
  "kernelspec": {
   "display_name": "Python 3 (ipykernel)",
   "language": "python",
   "name": "python3"
  },
  "language_info": {
   "codemirror_mode": {
    "name": "ipython",
    "version": 3
   },
   "file_extension": ".py",
   "mimetype": "text/x-python",
   "name": "python",
   "nbconvert_exporter": "python",
   "pygments_lexer": "ipython3",
   "version": "3.10.12"
  }
 },
 "nbformat": 4,
 "nbformat_minor": 5
}
