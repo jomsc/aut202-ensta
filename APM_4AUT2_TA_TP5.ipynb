{
 "cells": [
  {
   "cell_type": "markdown",
   "id": "61b74748-b617-41a4-970c-296198f50c5d",
   "metadata": {},
   "source": [
    "# Introduction to control theory. \n",
    "\n",
    "## TP5. State Observers. LQ.\n",
    "## Study load\n",
    "\n",
    "Course grade breakdown:\n",
    "\n",
    "    Labs - 40%\n",
    "    \n",
    "    Final project presentation 30%\n",
    "\n",
    "    Final test 30%\n",
    "    \n",
    "File name for lab submission: yourname_labnumber.ipynb (example: elenavanneaux_TP4.ipynb)    \n",
    "\n",
    "The completed notebooks should be sent to your tutor (elena.vanneaux@ensta.fr or adnan.saood@ensta.fr) before the beginning of the next session. Please add [APM_4AUT2_TA] to the topic of e-mail.\n",
    "\n",
    "## Prerequisites for practice\n",
    "### Math\n",
    "During the course, we will cover the following areas of mathematics:\n",
    "    \n",
    "    1. Linear Algebra\n",
    "\n",
    "    2. Calculus\n",
    "\n",
    "    3. Differential equations\n",
    "\n",
    "    4. Dynamics (Mechanics and Physics)\n",
    "\n",
    "### Python programming\n",
    "In the labs we will use a Python programming language and the following libraries:\n",
    "\n",
    "    1. NumPy https://numpy.org/doc/stable/\n",
    "\n",
    "    2. SciPy https://docs.scipy.org/doc/scipy/\n",
    "\n",
    "    3. Matplotlib https://matplotlib.org/stable/tutorials/index\n",
    "\n",
    "    4. SymPy https://docs.sympy.org/latest/tutorials/intro-tutorial/intro.html\n",
    "\n",
    "    5. Control System Library https://python-control.readthedocs.io/en/0.10.1/intro.html\n",
    "\n",
    "### Jupyter Notebook Markdown Cells Documentation\n",
    "\n",
    "Please check on Markdown cells documentation, to provide a fancy look for your notebooks!\n",
    "\n",
    "https://jupyter-notebook.readthedocs.io/en/stable/examples/Notebook/Working%20With%20Markdown%20Cells.html"
   ]
  },
  {
   "cell_type": "markdown",
   "id": "89331a9f-f1bf-4cb6-946b-2e9e36c29f8d",
   "metadata": {},
   "source": [
    "\n",
    "\n",
    "\n",
    "## TODO\n",
    "\n",
    "Last time you have designed a full-state feedback controller $u=-Kx, $ which stabilize the system in steady state\n",
    "$x = (0,0,0,0).$\n",
    "\n",
    "0. If you haven't done this - do it today! And don't hesitate to ask questions if it is unclear.\n",
    "\n",
    "This time let us assume that we only measure the position and the angular velocity, while their derivatives are not availabe. I.e. $y_{output} = (y, \\theta)' = Cx,$ where \n",
    "$$C = \\begin{pmatrix} 1 & 0 & 0 &0 \\\\ 0 & 0 & 1 &0 \\end{pmatrix}$$\n",
    "\n",
    "1. Is pair of matrices (A,C) observable? Why is it important? \n",
    "\n",
    "2. For an atonomus system\n",
    "$$\n",
    "\\dot x = Ax, \\ y = Cx\n",
    "$$\n",
    "\n",
    "design an observer $$\\dot{\\hat{x}} = (A - LC)\\hat{x} + Ly,$$ such that the estimation of the state $\\hat{x}$ converges to real state $x$. To do that we need to find a matrice $L$ such that the matrice $A-LC$ is Hurwits (i.e. all it eiginevalues have negative real part). \n",
    "\n",
    "Remark: to place arbitary eigenvalues $\\lambda_1,\\ldots \\lambda_n$ in matrice (A - LC) with matrice L, it is the same as to place $\\lambda_1,\\ldots \\lambda_n$ in matrice $(A^T - C^TL^T)$ with matrice $L^T$. \n",
    "\n",
    "Plot a real trajectory $x$ strarting from the point $x_0 = (2,0,1,0)$ and its estimation $\\hat{x}$ strating from the point $\\hat{x}_0 = (3,-1,2,0.5)$ to show convergence.\n",
    "\n",
    "3. Design an optimal estimator (LQE) and optimal estimated state feedback controller (LQR) which stabilize the system in (0,0,0,0).\n",
    "\n",
    "Remark: See slide \"observer and controller\" in the lecture."
   ]
  },
  {
   "cell_type": "markdown",
   "id": "dec83a1b",
   "metadata": {},
   "source": [
    "### Question 0\n",
    "Here is the controller designed last time."
   ]
  },
  {
   "cell_type": "code",
   "execution_count": 1,
   "id": "a1e7b410",
   "metadata": {},
   "outputs": [],
   "source": [
    "import numpy as np\n",
    "from scipy.integrate import odeint\n",
    "import matplotlib.pyplot as plt\n",
    "import control as ctr\n",
    "\n",
    "# x is a state vecot, t is a current time, A is a dynamic matrix, B is a control matrix, D is a disturbance matrix, \n",
    "# u_func(t) is a control input, w_func(t) is a disturbance input \n",
    "def StateSpace(x, t, A, B, D, u_func, w_func):\n",
    "    w = w_func(t)\n",
    "    u = u_func(t)\n",
    "    return np.dot(A, x) + np.dot(B, u).flatten() + np.dot(D, w).flatten()\n",
    "\n",
    "# OpenLoopInputOutputSystem with time-dependent w(t)\n",
    "def OpenLoopInputOutputSystem(A, B, D, C, u_func, w_func, T, x0):\n",
    "    # Solve the ODE system with odeint, passing the time-dependent w function\n",
    "    solution = odeint(StateSpace, x0, T, args=(A, B, D, u_func, w_func))\n",
    "    # Output calculation using C and the solution\n",
    "    # return (C @ solution.T) \n",
    "    return (solution.T)  "
   ]
  },
  {
   "cell_type": "code",
   "execution_count": 8,
   "id": "1a872791",
   "metadata": {},
   "outputs": [],
   "source": [
    "import sympy as sp\n",
    "from matplotlib.pyplot import *\n",
    "# Answer to EX1 q1 using symbolic calculs\n",
    "# Define symbolic variables\n",
    "M, m, b, l, I, g, F = sp.symbols('M m b l I g F')\n",
    "y, y1, theta, theta1, doty1, dottheta1 = sp.symbols('y y1 theta theta1 doty1 dottheta1')\n",
    "\n",
    "# Define the differential equations of the system\n",
    "eq1 = (M+m)*doty1 + b*y1 + m*l*dottheta1*sp.cos(theta) - m*l*theta1**2*sp.sin(theta) - F\n",
    "eq2 = m*l*sp.cos(theta)*doty1 + (I+m*l**2)*dottheta1 - m*g*l*sp.sin(theta)\n",
    "\n",
    "# Solve for the first derivative of theta1 (angular velocity)\n",
    "dottheta1_sol = sp.solve(eq2, dottheta1)[0]\n",
    "\n",
    "# Solve for the first derivative of y1 (linear velocity)\n",
    "doty1_sol = sp.simplify(sp.solve(eq1.subs(dottheta1, dottheta1_sol), doty1)[0])\n",
    "dottheta1_sol = sp.simplify(dottheta1_sol.subs(doty1,doty1_sol))\n",
    "\n",
    "# Define the state-space representation of the system dynamics\n",
    "f1 = y1\n",
    "f2 = doty1_sol \n",
    "f3 = theta1\n",
    "f4 = dottheta1_sol\n",
    "f = sp.Matrix([f1, f2, f3, f4])\n",
    "\n",
    "# Define state and control variables\n",
    "variables_x = sp.Matrix([y,y1,theta,theta1])\n",
    "variables_u = sp.Matrix([F])\n",
    "\n",
    "# Compute the Jacobian matrices of the system\n",
    "jacobian_A = sp.simplify(f.jacobian(variables_x).subs([(theta,0), (theta1,0)]))\n",
    "jacobian_B = sp.simplify(f.jacobian(variables_u).subs([(theta,0), (theta1,0)]))\n",
    "\n",
    "A = np.array(jacobian_A.subs({M:2.5, m:0.2, b:0.1,l:0.7, I:0.006, g:9.81}).evalf()).astype(float)\n",
    "B = np.array(jacobian_B.subs({M:2.5, m:0.2, b:0.1,l:0.7, I:0.006, g:9.81}).evalf()).astype(float).reshape(4,1)\n",
    "C = np.array([[1,0,0,0],[0,0,1,0]]) \n",
    "D = np.zeros((2,1))\n",
    "\n",
    "sys = ctr.ss(A, B, C, D)"
   ]
  },
  {
   "cell_type": "markdown",
   "id": "1e42b176",
   "metadata": {},
   "source": [
    "### Question 1\n",
    "Let's test is the system is observable."
   ]
  },
  {
   "cell_type": "code",
   "execution_count": 9,
   "id": "fb8c546c",
   "metadata": {},
   "outputs": [
    {
     "name": "stdout",
     "output_type": "stream",
     "text": [
      "System is observable.\n"
     ]
    }
   ],
   "source": [
    "obsv_m = ctr.obsv(sys.A, sys.C)\n",
    "C_rank = np.linalg.matrix_rank(obsv_m)\n",
    "\n",
    "if C_rank==4:\n",
    "    print(\"System is observable.\")"
   ]
  },
  {
   "cell_type": "markdown",
   "id": "65f6ab24",
   "metadata": {},
   "source": [
    "### Question 2 \n",
    "Now, let's design an observer such that the observation of the state converges to the real state, ie : $\\dot{\\hat{x}} = (A - LC)\\hat{x} + Ly,$\n",
    "We need to find a matrice $L$ such that the matrice $A-LC$ is Hurwits. The slides tell us that the matrix $K^T$ is the best one, so let's use it. "
   ]
  },
  {
   "cell_type": "code",
   "execution_count": 5,
   "id": "0c02c620",
   "metadata": {},
   "outputs": [],
   "source": [
    "K = ctr.place(A, B, [-1, -2, -3, -4])\n",
    "\n",
    "A_2 = A - np.dot(B, K)\n",
    "\n",
    "L = np.transpose(K)\n",
    "\n",
    "def system_dynamics(t, x):\n",
    "    return A @ x\n",
    "\n",
    "def observer_dynamics(t, x_hat, x_real):\n",
    "    y = C @ x_real\n",
    "    return (A - L @ C) @ x_hat + L @ y\n",
    "\n",
    "x0_real = np.array([2, 0, 1, 0])\n",
    "x0_hat = np.array([3, -1, 2, 0.5])\n",
    "tf = 6\n",
    "T = np.linspace(t0, tf, 1000)\n",
    "\n",
    "#solution = OpenLoopInputOutputSystem(A_2, B, np.zeros_like(B), np.eye(4), lambda t: 0, lambda t: 0, T, x0)"
   ]
  },
  {
   "cell_type": "code",
   "execution_count": 6,
   "id": "15a8285e-6234-4310-aec6-c5561f982f1b",
   "metadata": {},
   "outputs": [
    {
     "name": "stdout",
     "output_type": "stream",
     "text": [
      "(4, 1000)\n"
     ]
    },
    {
     "data": {
      "text/plain": [
       "Text(0, 0.5, 'Position ')"
      ]
     },
     "execution_count": 6,
     "metadata": {},
     "output_type": "execute_result"
    },
    {
     "data": {
      "image/png": "[encoded data removed]",
      "text/plain": [
       "<Figure size 864x360 with 2 Axes>"
      ]
     },
     "metadata": {
      "needs_background": "light"
     },
     "output_type": "display_data"
    }
   ],
   "source": [
    "figure(figsize=(12, 5))\n",
    "y = solution[2, :]\n",
    "print(solution.shape)\n",
    "\n",
    "subplot(1, 2, 1)\n",
    "plot(T, y, linewidth=2.0, color = 'red')\n",
    "grid(color='black', linestyle='--', linewidth=1.0, alpha = 0.7)\n",
    "grid(True)\n",
    "xlabel('time')\n",
    "xlim([t0, tf])\n",
    "plt.legend(['LQR' ])\n",
    "ylabel(r'Angle ')\n",
    "\n",
    "y = solution[0, :]\n",
    "subplot(1, 2, 2)\n",
    "plot(T, y, linewidth=2.0, color = 'red')\n",
    "grid(color='black', linestyle='--', linewidth=1.0, alpha = 0.7)\n",
    "grid(True)\n",
    "xlim([t0, tf])\n",
    "xlabel('time')\n",
    "plt.legend(['LQR' ])\n",
    "ylabel(r'Position ')"
   ]
  },
  {
   "cell_type": "code",
   "execution_count": null,
   "id": "3a5e25b5-f3ea-458d-991d-df0c65863bc3",
   "metadata": {},
   "outputs": [],
   "source": []
  }
 ],
 "metadata": {
  "kernelspec": {
   "display_name": "Python 3 (ipykernel)",
   "language": "python",
   "name": "python3"
  },
  "language_info": {
   "codemirror_mode": {
    "name": "ipython",
    "version": 3
   },
   "file_extension": ".py",
   "mimetype": "text/x-python",
   "name": "python",
   "nbconvert_exporter": "python",
   "pygments_lexer": "ipython3",
   "version": "3.10.12"
  }
 },
 "nbformat": 4,
 "nbformat_minor": 5
}
